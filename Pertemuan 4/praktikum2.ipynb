{
 "cells": [
  {
   "cell_type": "code",
   "execution_count": 8,
   "metadata": {},
   "outputs": [
    {
     "data": {
      "text/plain": [
       "['images', '__MACOSX']"
      ]
     },
     "execution_count": 8,
     "metadata": {},
     "output_type": "execute_result"
    }
   ],
   "source": [
    "import zipfile\n",
    "import os\n",
    "\n",
    "# Path to the uploaded file\n",
    "zip_path = 'G:\\\\My Drive\\\\Perkuliahan\\\\Pribadi\\\\Semester 5\\\\Pembelajaran Mesin\\\\Pertemuan 4\\\\images.zip'\n",
    "extract_dir = 'G:\\\\My Drive\\\\Perkuliahan\\\\Pribadi\\\\Semester 5\\\\Pembelajaran Mesin\\\\Pertemuan 4\\\\gambar'\n",
    "\n",
    "# Extract the zip file\n",
    "with zipfile.ZipFile(zip_path, 'r') as zip_ref:\n",
    "    zip_ref.extractall(extract_dir)\n",
    "\n",
    "# List the extracted files and directories to see the content\n",
    "extracted_files = os.listdir(extract_dir)\n",
    "extracted_files\n"
   ]
  },
  {
   "cell_type": "code",
   "execution_count": 9,
   "metadata": {},
   "outputs": [
    {
     "data": {
      "text/plain": [
       "['test', 'training']"
      ]
     },
     "execution_count": 9,
     "metadata": {},
     "output_type": "execute_result"
    }
   ],
   "source": [
    "# List the files in the 'images' directory\n",
    "image_folder = os.path.join(extract_dir, 'images')\n",
    "image_files = os.listdir(image_folder)\n",
    "image_files[:10]  # Display the first 10 files to check content\n"
   ]
  },
  {
   "cell_type": "code",
   "execution_count": 10,
   "metadata": {},
   "outputs": [
    {
     "data": {
      "text/plain": [
       "['day', 'night']"
      ]
     },
     "execution_count": 10,
     "metadata": {},
     "output_type": "execute_result"
    }
   ],
   "source": [
    "# List the files inside 'training' folder\n",
    "training_folder = os.path.join(image_folder, 'training')\n",
    "training_classes = os.listdir(training_folder)\n",
    "\n",
    "# Display the class folders inside the 'training' folder\n",
    "training_classes"
   ]
  },
  {
   "cell_type": "code",
   "execution_count": 11,
   "metadata": {},
   "outputs": [
    {
     "data": {
      "image/png": "[encoded data removed]",
      "text/plain": [
       "<Figure size 1000x400 with 1 Axes>"
      ]
     },
     "metadata": {},
     "output_type": "display_data"
    }
   ],
   "source": [
    "import cv2\n",
    "import numpy as np\n",
    "from matplotlib import pyplot as plt\n",
    "\n",
    "# Function to compute histogram for an image\n",
    "def compute_histogram(image_path):\n",
    "    image = cv2.imread(image_path)\n",
    "    if image is None:\n",
    "        return None\n",
    "    image = cv2.cvtColor(image, cv2.COLOR_BGR2RGB)\n",
    "    hist = cv2.calcHist([image], [0, 1, 2], None, [8, 8, 8], [0, 256, 0, 256, 0, 256])\n",
    "    cv2.normalize(hist, hist)\n",
    "    return hist.flatten()\n",
    "\n",
    "# List first few images in 'day' and 'night' classes\n",
    "day_images = os.listdir(os.path.join(training_folder, 'day'))\n",
    "night_images = os.listdir(os.path.join(training_folder, 'night'))\n",
    "\n",
    "# Compute histogram for the first 'day' image\n",
    "sample_day_image_path = os.path.join(training_folder, 'day', day_images[0])\n",
    "sample_day_hist = compute_histogram(sample_day_image_path)\n",
    "\n",
    "# Plot the histogram\n",
    "plt.figure(figsize=(10, 4))\n",
    "plt.title(\"Histogram of a 'Day' Image\")\n",
    "plt.plot(sample_day_hist)\n",
    "plt.show()\n"
   ]
  },
  {
   "cell_type": "code",
   "execution_count": 12,
   "metadata": {},
   "outputs": [
    {
     "name": "stdout",
     "output_type": "stream",
     "text": [
      "              precision    recall  f1-score   support\n",
      "\n",
      "         day       1.00      1.00      1.00        24\n",
      "       night       1.00      1.00      1.00        24\n",
      "\n",
      "    accuracy                           1.00        48\n",
      "   macro avg       1.00      1.00      1.00        48\n",
      "weighted avg       1.00      1.00      1.00        48\n",
      "\n"
     ]
    }
   ],
   "source": [
    "import cv2\n",
    "import os\n",
    "import numpy as np\n",
    "from sklearn.model_selection import train_test_split\n",
    "from sklearn.svm import SVC\n",
    "from sklearn.metrics import classification_report\n",
    "\n",
    "# Fungsi untuk menghitung histogram\n",
    "def compute_histogram(image_path):\n",
    "    image = cv2.imread(image_path)\n",
    "    image = cv2.cvtColor(image, cv2.COLOR_BGR2RGB)\n",
    "    hist = cv2.calcHist([image], [0, 1, 2], None, [8, 8, 8], [0, 256, 0, 256, 0, 256])\n",
    "    cv2.normalize(hist, hist)\n",
    "    return hist.flatten()\n",
    "\n",
    "# Mendapatkan data gambar\n",
    "base_dir = 'G:\\\\My Drive\\\\Perkuliahan\\\\Pribadi\\\\Semester 5\\\\Pembelajaran Mesin\\\\Pertemuan 4\\\\images\\\\images'\n",
    "labels = ['day', 'night']\n",
    "data = []\n",
    "target = []\n",
    "\n",
    "for label in labels:\n",
    "    folder_path = os.path.join(base_dir, 'training', label)\n",
    "    for image_name in os.listdir(folder_path):\n",
    "        image_path = os.path.join(folder_path, image_name)\n",
    "        hist = compute_histogram(image_path)\n",
    "        data.append(hist)\n",
    "        target.append(label)\n",
    "\n",
    "# Konversi ke array\n",
    "data = np.array(data)\n",
    "target = np.array(target)\n",
    "\n",
    "# Split data menjadi training dan testing\n",
    "X_train, X_test, y_train, y_test = train_test_split(data, target, test_size=0.2, random_state=42)\n",
    "\n",
    "# Melatih model SVM\n",
    "model = SVC(kernel='linear')\n",
    "model.fit(X_train, y_train)\n",
    "\n",
    "# Evaluasi model\n",
    "y_pred = model.predict(X_test)\n",
    "print(classification_report(y_test, y_pred))"
   ]
  }
 ],
 "metadata": {
  "kernelspec": {
   "display_name": "base",
   "language": "python",
   "name": "python3"
  },
  "language_info": {
   "codemirror_mode": {
    "name": "ipython",
    "version": 3
   },
   "file_extension": ".py",
   "mimetype": "text/x-python",
   "name": "python",
   "nbconvert_exporter": "python",
   "pygments_lexer": "ipython3",
   "version": "3.12.4"
  }
 },
 "nbformat": 4,
 "nbformat_minor": 2
}
